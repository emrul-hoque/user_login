{
  "cells": [
    {
      "cell_type": "markdown",
      "metadata": {
        "id": "view-in-github",
        "colab_type": "text"
      },
      "source": [
        "<a href=\"https://colab.research.google.com/github/emrul-hoque/user_login/blob/master/user_login.ipynb\" target=\"_parent\"><img src=\"https://colab.research.google.com/assets/colab-badge.svg\" alt=\"Open In Colab\"/></a>"
      ]
    },
    {
      "cell_type": "code",
      "source": [
        "user_credentials = {\n",
        "    \"user1\" : \"orange\",\n",
        "    \"user2\" : \"cherry\",\n",
        "    \"user3\" : \"pineapple\"\n",
        "}\n",
        "\n",
        "user_name = input(\"Enter your ID:  \")\n",
        "\n",
        "\n",
        "if user_name in user_credentials:\n",
        "    password = input(\"Enter your password:  \")\n",
        "\n",
        "    if password == user_credentials[user_name]:\n",
        "        print(\"You have signed in\")\n",
        "\n",
        "    else: print(\"incorrect password\")\n",
        "\n",
        "else:\n",
        "    print(\"User not found\")"
      ],
      "metadata": {
        "id": "GHmTFF0P38cn",
        "outputId": "a26cf81a-b8f8-44d6-dd11-7edd7f036a25",
        "colab": {
          "base_uri": "https://localhost:8080/"
        }
      },
      "execution_count": 2,
      "outputs": [
        {
          "output_type": "stream",
          "name": "stdout",
          "text": [
            "Enter your ID:  user1\n",
            "Enter your password:  cherry\n",
            "incorrect password\n"
          ]
        }
      ]
    }
  ],
  "metadata": {
    "colab": {
      "name": "Welcome to Colaboratory",
      "provenance": [],
      "include_colab_link": true
    },
    "kernelspec": {
      "display_name": "Python 3",
      "name": "python3"
    }
  },
  "nbformat": 4,
  "nbformat_minor": 0
}